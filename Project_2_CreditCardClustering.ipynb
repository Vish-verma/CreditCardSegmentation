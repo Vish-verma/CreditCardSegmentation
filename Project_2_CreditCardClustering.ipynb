{
 "cells": [
  {
   "cell_type": "code",
   "execution_count": 1,
   "metadata": {},
   "outputs": [
    {
     "name": "stderr",
     "output_type": "stream",
     "text": [
      "Using TensorFlow backend.\n"
     ]
    }
   ],
   "source": [
    "import pandas as pd\n",
    "import matplotlib.pyplot as plt\n",
    "import numpy as np\n",
    "import os\n",
    "import seaborn as sns\n",
    "from fancyimpute import KNN\n",
    "from sklearn.compose import ColumnTransformer\n",
    "from sklearn.preprocessing import OneHotEncoder,StandardScaler\n",
    "from sklearn.cluster import KMeans\n",
    "from sklearn.decomposition import PCA"
   ]
  },
  {
   "cell_type": "code",
   "execution_count": 2,
   "metadata": {},
   "outputs": [],
   "source": [
    "os.chdir(\"E:\\Data Science(Edwisor)\\Project\\Project #2\\Dataset\")"
   ]
  },
  {
   "cell_type": "code",
   "execution_count": 3,
   "metadata": {},
   "outputs": [
    {
     "name": "stdout",
     "output_type": "stream",
     "text": [
      "<class 'pandas.core.frame.DataFrame'>\n",
      "RangeIndex: 8950 entries, 0 to 8949\n",
      "Data columns (total 18 columns):\n",
      "CUST_ID                             8950 non-null object\n",
      "BALANCE                             8950 non-null float64\n",
      "BALANCE_FREQUENCY                   8950 non-null float64\n",
      "PURCHASES                           8950 non-null float64\n",
      "ONEOFF_PURCHASES                    8950 non-null float64\n",
      "INSTALLMENTS_PURCHASES              8950 non-null float64\n",
      "CASH_ADVANCE                        8950 non-null float64\n",
      "PURCHASES_FREQUENCY                 8950 non-null float64\n",
      "ONEOFF_PURCHASES_FREQUENCY          8950 non-null float64\n",
      "PURCHASES_INSTALLMENTS_FREQUENCY    8950 non-null float64\n",
      "CASH_ADVANCE_FREQUENCY              8950 non-null float64\n",
      "CASH_ADVANCE_TRX                    8950 non-null int64\n",
      "PURCHASES_TRX                       8950 non-null int64\n",
      "CREDIT_LIMIT                        8949 non-null float64\n",
      "PAYMENTS                            8950 non-null float64\n",
      "MINIMUM_PAYMENTS                    8637 non-null float64\n",
      "PRC_FULL_PAYMENT                    8950 non-null float64\n",
      "TENURE                              8950 non-null int64\n",
      "dtypes: float64(14), int64(3), object(1)\n",
      "memory usage: 1.2+ MB\n"
     ]
    }
   ],
   "source": [
    "dataset = pd.read_csv('credit-card-data.csv',encoding = 'utf-8')\n",
    "dataset.info()"
   ]
  },
  {
   "cell_type": "code",
   "execution_count": 4,
   "metadata": {},
   "outputs": [
    {
     "name": "stdout",
     "output_type": "stream",
     "text": [
      "<class 'pandas.core.frame.DataFrame'>\n",
      "RangeIndex: 8950 entries, 0 to 8949\n",
      "Data columns (total 17 columns):\n",
      "BALANCE                             8950 non-null float64\n",
      "BALANCE_FREQUENCY                   8950 non-null float64\n",
      "PURCHASES                           8950 non-null float64\n",
      "ONEOFF_PURCHASES                    8950 non-null float64\n",
      "INSTALLMENTS_PURCHASES              8950 non-null float64\n",
      "CASH_ADVANCE                        8950 non-null float64\n",
      "PURCHASES_FREQUENCY                 8950 non-null float64\n",
      "ONEOFF_PURCHASES_FREQUENCY          8950 non-null float64\n",
      "PURCHASES_INSTALLMENTS_FREQUENCY    8950 non-null float64\n",
      "CASH_ADVANCE_FREQUENCY              8950 non-null float64\n",
      "CASH_ADVANCE_TRX                    8950 non-null int64\n",
      "PURCHASES_TRX                       8950 non-null int64\n",
      "CREDIT_LIMIT                        8949 non-null float64\n",
      "PAYMENTS                            8950 non-null float64\n",
      "MINIMUM_PAYMENTS                    8637 non-null float64\n",
      "PRC_FULL_PAYMENT                    8950 non-null float64\n",
      "TENURE                              8950 non-null int64\n",
      "dtypes: float64(14), int64(3)\n",
      "memory usage: 1.2 MB\n"
     ]
    }
   ],
   "source": [
    "dataset = dataset.iloc[:,1:19] \n",
    "dataset.head()\n",
    "dataset.info()"
   ]
  },
  {
   "cell_type": "code",
   "execution_count": 5,
   "metadata": {},
   "outputs": [
    {
     "data": {
      "text/plain": [
       "(8950, 17)"
      ]
     },
     "execution_count": 5,
     "metadata": {},
     "output_type": "execute_result"
    }
   ],
   "source": [
    "dataset.shape"
   ]
  },
  {
   "cell_type": "markdown",
   "metadata": {},
   "source": [
    "## Missing Value Analysis"
   ]
  },
  {
   "cell_type": "code",
   "execution_count": 6,
   "metadata": {},
   "outputs": [
    {
     "data": {
      "text/plain": [
       "Index(['CREDIT_LIMIT', 'MINIMUM_PAYMENTS'], dtype='object')"
      ]
     },
     "execution_count": 6,
     "metadata": {},
     "output_type": "execute_result"
    }
   ],
   "source": [
    "dataset.columns[dataset.isnull().any()]"
   ]
  },
  {
   "cell_type": "code",
   "execution_count": 7,
   "metadata": {},
   "outputs": [
    {
     "data": {
      "text/plain": [
       "False    8949\n",
       "True        1\n",
       "Name: CREDIT_LIMIT, dtype: int64"
      ]
     },
     "execution_count": 7,
     "metadata": {},
     "output_type": "execute_result"
    }
   ],
   "source": [
    "dataset['CREDIT_LIMIT'].isnull().value_counts()"
   ]
  },
  {
   "cell_type": "code",
   "execution_count": 8,
   "metadata": {},
   "outputs": [
    {
     "name": "stdout",
     "output_type": "stream",
     "text": [
      "0.0111731843575419\n"
     ]
    }
   ],
   "source": [
    "percentage_missing = (1/8950)*100\n",
    "print(percentage_missing)"
   ]
  },
  {
   "cell_type": "code",
   "execution_count": 9,
   "metadata": {},
   "outputs": [
    {
     "data": {
      "text/plain": [
       "False    8637\n",
       "True      313\n",
       "Name: MINIMUM_PAYMENTS, dtype: int64"
      ]
     },
     "execution_count": 9,
     "metadata": {},
     "output_type": "execute_result"
    }
   ],
   "source": [
    "dataset['MINIMUM_PAYMENTS'].isnull().value_counts()"
   ]
  },
  {
   "cell_type": "code",
   "execution_count": 10,
   "metadata": {},
   "outputs": [
    {
     "name": "stdout",
     "output_type": "stream",
     "text": [
      "3.4972067039106145\n"
     ]
    }
   ],
   "source": [
    "percentage_missing = (313/8950)*100\n",
    "print(percentage_missing)"
   ]
  },
  {
   "cell_type": "code",
   "execution_count": 11,
   "metadata": {},
   "outputs": [],
   "source": [
    "#imputation method\n",
    "#Actual value = 81.433073\n",
    "#Mean = 864.2971830495586\n",
    "#Median = 312.4522915\n",
    "#KNN =11.834127"
   ]
  },
  {
   "cell_type": "code",
   "execution_count": 12,
   "metadata": {},
   "outputs": [
    {
     "name": "stdout",
     "output_type": "stream",
     "text": [
      "Imputing row 1/8950 with 0 missing, elapsed time: 13.432\n",
      "Imputing row 101/8950 with 0 missing, elapsed time: 13.432\n",
      "Imputing row 201/8950 with 0 missing, elapsed time: 13.433\n",
      "Imputing row 301/8950 with 0 missing, elapsed time: 13.434\n",
      "Imputing row 401/8950 with 0 missing, elapsed time: 13.435\n",
      "Imputing row 501/8950 with 0 missing, elapsed time: 13.435\n",
      "Imputing row 601/8950 with 0 missing, elapsed time: 13.436\n",
      "Imputing row 701/8950 with 0 missing, elapsed time: 13.436\n",
      "Imputing row 801/8950 with 0 missing, elapsed time: 13.436\n",
      "Imputing row 901/8950 with 0 missing, elapsed time: 13.438\n",
      "Imputing row 1001/8950 with 0 missing, elapsed time: 13.439\n",
      "Imputing row 1101/8950 with 0 missing, elapsed time: 13.440\n",
      "Imputing row 1201/8950 with 0 missing, elapsed time: 13.440\n",
      "Imputing row 1301/8950 with 0 missing, elapsed time: 13.441\n",
      "Imputing row 1401/8950 with 0 missing, elapsed time: 13.441\n",
      "Imputing row 1501/8950 with 0 missing, elapsed time: 13.442\n",
      "Imputing row 1601/8950 with 0 missing, elapsed time: 13.442\n",
      "Imputing row 1701/8950 with 0 missing, elapsed time: 13.443\n",
      "Imputing row 1801/8950 with 0 missing, elapsed time: 13.444\n",
      "Imputing row 1901/8950 with 0 missing, elapsed time: 13.444\n",
      "Imputing row 2001/8950 with 0 missing, elapsed time: 13.445\n",
      "Imputing row 2101/8950 with 0 missing, elapsed time: 13.445\n",
      "Imputing row 2201/8950 with 0 missing, elapsed time: 13.446\n",
      "Imputing row 2301/8950 with 0 missing, elapsed time: 13.446\n",
      "Imputing row 2401/8950 with 0 missing, elapsed time: 13.447\n",
      "Imputing row 2501/8950 with 0 missing, elapsed time: 13.447\n",
      "Imputing row 2601/8950 with 0 missing, elapsed time: 13.448\n",
      "Imputing row 2701/8950 with 0 missing, elapsed time: 13.449\n",
      "Imputing row 2801/8950 with 0 missing, elapsed time: 13.449\n",
      "Imputing row 2901/8950 with 0 missing, elapsed time: 13.450\n",
      "Imputing row 3001/8950 with 0 missing, elapsed time: 13.450\n",
      "Imputing row 3101/8950 with 0 missing, elapsed time: 13.451\n",
      "Imputing row 3201/8950 with 0 missing, elapsed time: 13.451\n",
      "Imputing row 3301/8950 with 0 missing, elapsed time: 13.452\n",
      "Imputing row 3401/8950 with 0 missing, elapsed time: 13.452\n",
      "Imputing row 3501/8950 with 0 missing, elapsed time: 13.453\n",
      "Imputing row 3601/8950 with 0 missing, elapsed time: 13.453\n",
      "Imputing row 3701/8950 with 0 missing, elapsed time: 13.454\n",
      "Imputing row 3801/8950 with 0 missing, elapsed time: 13.455\n",
      "Imputing row 3901/8950 with 0 missing, elapsed time: 13.455\n",
      "Imputing row 4001/8950 with 0 missing, elapsed time: 13.456\n",
      "Imputing row 4101/8950 with 0 missing, elapsed time: 13.456\n",
      "Imputing row 4201/8950 with 0 missing, elapsed time: 13.457\n",
      "Imputing row 4301/8950 with 0 missing, elapsed time: 13.457\n",
      "Imputing row 4401/8950 with 0 missing, elapsed time: 13.458\n",
      "Imputing row 4501/8950 with 0 missing, elapsed time: 13.458\n",
      "Imputing row 4601/8950 with 1 missing, elapsed time: 13.459\n",
      "Imputing row 4701/8950 with 0 missing, elapsed time: 13.459\n",
      "Imputing row 4801/8950 with 1 missing, elapsed time: 13.460\n",
      "Imputing row 4901/8950 with 0 missing, elapsed time: 13.460\n",
      "Imputing row 5001/8950 with 1 missing, elapsed time: 13.461\n",
      "Imputing row 5101/8950 with 0 missing, elapsed time: 13.462\n",
      "Imputing row 5201/8950 with 0 missing, elapsed time: 13.462\n",
      "Imputing row 5301/8950 with 0 missing, elapsed time: 13.463\n",
      "Imputing row 5401/8950 with 0 missing, elapsed time: 13.463\n",
      "Imputing row 5501/8950 with 0 missing, elapsed time: 13.464\n",
      "Imputing row 5601/8950 with 0 missing, elapsed time: 13.465\n",
      "Imputing row 5701/8950 with 0 missing, elapsed time: 13.465\n",
      "Imputing row 5801/8950 with 0 missing, elapsed time: 13.466\n",
      "Imputing row 5901/8950 with 0 missing, elapsed time: 13.466\n",
      "Imputing row 6001/8950 with 0 missing, elapsed time: 13.467\n",
      "Imputing row 6101/8950 with 0 missing, elapsed time: 13.468\n",
      "Imputing row 6201/8950 with 0 missing, elapsed time: 13.468\n",
      "Imputing row 6301/8950 with 0 missing, elapsed time: 13.469\n",
      "Imputing row 6401/8950 with 0 missing, elapsed time: 13.469\n",
      "Imputing row 6501/8950 with 0 missing, elapsed time: 13.469\n",
      "Imputing row 6601/8950 with 0 missing, elapsed time: 13.469\n",
      "Imputing row 6701/8950 with 0 missing, elapsed time: 13.470\n",
      "Imputing row 6801/8950 with 0 missing, elapsed time: 13.470\n",
      "Imputing row 6901/8950 with 0 missing, elapsed time: 13.471\n",
      "Imputing row 7001/8950 with 0 missing, elapsed time: 13.471\n",
      "Imputing row 7101/8950 with 0 missing, elapsed time: 13.472\n",
      "Imputing row 7201/8950 with 0 missing, elapsed time: 13.472\n",
      "Imputing row 7301/8950 with 1 missing, elapsed time: 13.473\n",
      "Imputing row 7401/8950 with 0 missing, elapsed time: 13.473\n",
      "Imputing row 7501/8950 with 0 missing, elapsed time: 13.474\n",
      "Imputing row 7601/8950 with 0 missing, elapsed time: 13.474\n",
      "Imputing row 7701/8950 with 0 missing, elapsed time: 13.475\n",
      "Imputing row 7801/8950 with 1 missing, elapsed time: 13.476\n",
      "Imputing row 7901/8950 with 0 missing, elapsed time: 13.476\n",
      "Imputing row 8001/8950 with 1 missing, elapsed time: 13.477\n",
      "Imputing row 8101/8950 with 0 missing, elapsed time: 13.478\n",
      "Imputing row 8201/8950 with 0 missing, elapsed time: 13.478\n",
      "Imputing row 8301/8950 with 0 missing, elapsed time: 13.479\n",
      "Imputing row 8401/8950 with 1 missing, elapsed time: 13.480\n",
      "Imputing row 8501/8950 with 1 missing, elapsed time: 13.480\n",
      "Imputing row 8601/8950 with 0 missing, elapsed time: 13.481\n",
      "Imputing row 8701/8950 with 0 missing, elapsed time: 13.482\n",
      "Imputing row 8801/8950 with 0 missing, elapsed time: 13.482\n",
      "Imputing row 8901/8950 with 0 missing, elapsed time: 13.483\n"
     ]
    }
   ],
   "source": [
    "dataset = pd.DataFrame(KNN(k = 3).fit_transform(dataset), columns = dataset.columns)"
   ]
  },
  {
   "cell_type": "code",
   "execution_count": 13,
   "metadata": {},
   "outputs": [
    {
     "data": {
      "text/plain": [
       "Index([], dtype='object')"
      ]
     },
     "execution_count": 13,
     "metadata": {},
     "output_type": "execute_result"
    }
   ],
   "source": [
    "dataset.columns[dataset.isnull().any()]"
   ]
  },
  {
   "cell_type": "markdown",
   "metadata": {},
   "source": [
    "# Feature engineering to create KPI's"
   ]
  },
  {
   "cell_type": "code",
   "execution_count": 14,
   "metadata": {},
   "outputs": [],
   "source": [
    "#1  Monthly Average Purchase\n",
    "\n",
    "dataset['MONTHLY_AVG_PURCHASE'] =  dataset['PURCHASES']/dataset['TENURE']"
   ]
  },
  {
   "cell_type": "code",
   "execution_count": 15,
   "metadata": {},
   "outputs": [],
   "source": [
    "#2 Average Cash Advance Amount\n",
    "\n",
    "dataset['CASH_ADVANCE_AVG'] = dataset['CASH_ADVANCE']/dataset['TENURE']"
   ]
  },
  {
   "cell_type": "code",
   "execution_count": 16,
   "metadata": {},
   "outputs": [
    {
     "data": {
      "text/html": [
       "<div>\n",
       "<style scoped>\n",
       "    .dataframe tbody tr th:only-of-type {\n",
       "        vertical-align: middle;\n",
       "    }\n",
       "\n",
       "    .dataframe tbody tr th {\n",
       "        vertical-align: top;\n",
       "    }\n",
       "\n",
       "    .dataframe thead th {\n",
       "        text-align: right;\n",
       "    }\n",
       "</style>\n",
       "<table border=\"1\" class=\"dataframe\">\n",
       "  <thead>\n",
       "    <tr style=\"text-align: right;\">\n",
       "      <th></th>\n",
       "      <th>ONEOFF_PURCHASES</th>\n",
       "      <th>INSTALLMENTS_PURCHASES</th>\n",
       "      <th>count</th>\n",
       "    </tr>\n",
       "  </thead>\n",
       "  <tbody>\n",
       "    <tr>\n",
       "      <td>0</td>\n",
       "      <td>False</td>\n",
       "      <td>False</td>\n",
       "      <td>2042</td>\n",
       "    </tr>\n",
       "    <tr>\n",
       "      <td>1</td>\n",
       "      <td>False</td>\n",
       "      <td>True</td>\n",
       "      <td>2260</td>\n",
       "    </tr>\n",
       "    <tr>\n",
       "      <td>2</td>\n",
       "      <td>True</td>\n",
       "      <td>False</td>\n",
       "      <td>1874</td>\n",
       "    </tr>\n",
       "    <tr>\n",
       "      <td>3</td>\n",
       "      <td>True</td>\n",
       "      <td>True</td>\n",
       "      <td>2774</td>\n",
       "    </tr>\n",
       "  </tbody>\n",
       "</table>\n",
       "</div>"
      ],
      "text/plain": [
       "   ONEOFF_PURCHASES  INSTALLMENTS_PURCHASES  count\n",
       "0             False                   False   2042\n",
       "1             False                    True   2260\n",
       "2              True                   False   1874\n",
       "3              True                    True   2774"
      ]
     },
     "execution_count": 16,
     "metadata": {},
     "output_type": "execute_result"
    }
   ],
   "source": [
    "#3 Purchases by Type\n",
    "df = pd.DataFrame()\n",
    "df['ONEOFF_PURCHASES'] = np.where(dataset['ONEOFF_PURCHASES'] > 0, True, False)\n",
    "df['INSTALLMENTS_PURCHASES'] = np.where(dataset['INSTALLMENTS_PURCHASES'] > 0, True, False)\n",
    "df.groupby(['ONEOFF_PURCHASES','INSTALLMENTS_PURCHASES']).size().reset_index().rename(columns={0:'count'})"
   ]
  },
  {
   "cell_type": "code",
   "execution_count": 17,
   "metadata": {},
   "outputs": [
    {
     "name": "stderr",
     "output_type": "stream",
     "text": [
      "C:\\ProgramData\\Anaconda3\\lib\\site-packages\\ipykernel_launcher.py:6: SettingWithCopyWarning: \n",
      "A value is trying to be set on a copy of a slice from a DataFrame\n",
      "\n",
      "See the caveats in the documentation: http://pandas.pydata.org/pandas-docs/stable/user_guide/indexing.html#returning-a-view-versus-a-copy\n",
      "  \n",
      "C:\\ProgramData\\Anaconda3\\lib\\site-packages\\ipykernel_launcher.py:4: SettingWithCopyWarning: \n",
      "A value is trying to be set on a copy of a slice from a DataFrame\n",
      "\n",
      "See the caveats in the documentation: http://pandas.pydata.org/pandas-docs/stable/user_guide/indexing.html#returning-a-view-versus-a-copy\n",
      "  after removing the cwd from sys.path.\n",
      "C:\\ProgramData\\Anaconda3\\lib\\site-packages\\ipykernel_launcher.py:8: SettingWithCopyWarning: \n",
      "A value is trying to be set on a copy of a slice from a DataFrame\n",
      "\n",
      "See the caveats in the documentation: http://pandas.pydata.org/pandas-docs/stable/user_guide/indexing.html#returning-a-view-versus-a-copy\n",
      "  \n",
      "C:\\ProgramData\\Anaconda3\\lib\\site-packages\\ipykernel_launcher.py:10: SettingWithCopyWarning: \n",
      "A value is trying to be set on a copy of a slice from a DataFrame\n",
      "\n",
      "See the caveats in the documentation: http://pandas.pydata.org/pandas-docs/stable/user_guide/indexing.html#returning-a-view-versus-a-copy\n",
      "  # Remove the CWD from sys.path while we load stuff.\n"
     ]
    }
   ],
   "source": [
    "dataset['PURCHASE_TYPE']=None\n",
    "for i in range(0,8950):\n",
    "    if df['ONEOFF_PURCHASES'][i] == False and df['INSTALLMENTS_PURCHASES'][i] == False:\n",
    "        dataset['PURCHASE_TYPE'][i] = 'None'\n",
    "    elif df['ONEOFF_PURCHASES'][i] == False and df['INSTALLMENTS_PURCHASES'][i] == True:\n",
    "        dataset['PURCHASE_TYPE'][i] = 'Installement'\n",
    "    elif df['ONEOFF_PURCHASES'][i] == True and df['INSTALLMENTS_PURCHASES'][i] == False:\n",
    "        dataset['PURCHASE_TYPE'][i] = 'One off'\n",
    "    else:\n",
    "        dataset['PURCHASE_TYPE'][i] = 'Both'"
   ]
  },
  {
   "cell_type": "code",
   "execution_count": 18,
   "metadata": {},
   "outputs": [],
   "source": [
    "#4 limit usage (balance to credit limit ratio)\n",
    "dataset['LIMIT_RATIO'] =dataset['BALANCE']/dataset['CREDIT_LIMIT']"
   ]
  },
  {
   "cell_type": "code",
   "execution_count": 19,
   "metadata": {},
   "outputs": [],
   "source": [
    "#5  payments to minimum payments ratio \n",
    "dataset['PAYMENT_MIN_PAYEMENT_RATIO'] = dataset['PAYMENTS']/dataset['MINIMUM_PAYMENTS']"
   ]
  },
  {
   "cell_type": "code",
   "execution_count": 20,
   "metadata": {},
   "outputs": [
    {
     "name": "stdout",
     "output_type": "stream",
     "text": [
      "<class 'pandas.core.frame.DataFrame'>\n",
      "RangeIndex: 8950 entries, 0 to 8949\n",
      "Data columns (total 22 columns):\n",
      "BALANCE                             8950 non-null float64\n",
      "BALANCE_FREQUENCY                   8950 non-null float64\n",
      "PURCHASES                           8950 non-null float64\n",
      "ONEOFF_PURCHASES                    8950 non-null float64\n",
      "INSTALLMENTS_PURCHASES              8950 non-null float64\n",
      "CASH_ADVANCE                        8950 non-null float64\n",
      "PURCHASES_FREQUENCY                 8950 non-null float64\n",
      "ONEOFF_PURCHASES_FREQUENCY          8950 non-null float64\n",
      "PURCHASES_INSTALLMENTS_FREQUENCY    8950 non-null float64\n",
      "CASH_ADVANCE_FREQUENCY              8950 non-null float64\n",
      "CASH_ADVANCE_TRX                    8950 non-null float64\n",
      "PURCHASES_TRX                       8950 non-null float64\n",
      "CREDIT_LIMIT                        8950 non-null float64\n",
      "PAYMENTS                            8950 non-null float64\n",
      "MINIMUM_PAYMENTS                    8950 non-null float64\n",
      "PRC_FULL_PAYMENT                    8950 non-null float64\n",
      "TENURE                              8950 non-null float64\n",
      "MONTHLY_AVG_PURCHASE                8950 non-null float64\n",
      "CASH_ADVANCE_AVG                    8950 non-null float64\n",
      "PURCHASE_TYPE                       8950 non-null object\n",
      "LIMIT_RATIO                         8950 non-null float64\n",
      "PAYMENT_MIN_PAYEMENT_RATIO          8950 non-null float64\n",
      "dtypes: float64(21), object(1)\n",
      "memory usage: 1.5+ MB\n"
     ]
    }
   ],
   "source": [
    "dataset.info()"
   ]
  },
  {
   "cell_type": "code",
   "execution_count": 21,
   "metadata": {},
   "outputs": [
    {
     "name": "stdout",
     "output_type": "stream",
     "text": [
      "       BALANCE  BALANCE_FREQUENCY  PURCHASES  ONEOFF_PURCHASES  \\\n",
      "0    40.900749           0.818182      95.40              0.00   \n",
      "1  3202.467416           0.909091       0.00              0.00   \n",
      "2  2495.148862           1.000000     773.17            773.17   \n",
      "3  1666.670542           0.636364    1499.00           1499.00   \n",
      "4   817.714335           1.000000      16.00             16.00   \n",
      "\n",
      "   INSTALLMENTS_PURCHASES  CASH_ADVANCE  PURCHASES_FREQUENCY  \\\n",
      "0                    95.4      0.000000             0.166667   \n",
      "1                     0.0   6442.945483             0.000000   \n",
      "2                     0.0      0.000000             1.000000   \n",
      "3                     0.0    205.788017             0.083333   \n",
      "4                     0.0      0.000000             0.083333   \n",
      "\n",
      "   ONEOFF_PURCHASES_FREQUENCY  PURCHASES_INSTALLMENTS_FREQUENCY  \\\n",
      "0                    0.000000                          0.083333   \n",
      "1                    0.000000                          0.000000   \n",
      "2                    1.000000                          0.000000   \n",
      "3                    0.083333                          0.000000   \n",
      "4                    0.083333                          0.000000   \n",
      "\n",
      "   CASH_ADVANCE_FREQUENCY  ...  PRC_FULL_PAYMENT  TENURE  \\\n",
      "0                0.000000  ...          0.000000    12.0   \n",
      "1                0.250000  ...          0.222222    12.0   \n",
      "2                0.000000  ...          0.000000    12.0   \n",
      "3                0.083333  ...          0.000000    12.0   \n",
      "4                0.000000  ...          0.000000    12.0   \n",
      "\n",
      "   MONTHLY_AVG_PURCHASE  CASH_ADVANCE_AVG  LIMIT_RATIO  \\\n",
      "0              7.950000          0.000000     0.040901   \n",
      "1              0.000000        536.912124     0.457495   \n",
      "2             64.430833          0.000000     0.332687   \n",
      "3            124.916667         17.149001     0.222223   \n",
      "4              1.333333          0.000000     0.681429   \n",
      "\n",
      "   PAYMENT_MIN_PAYEMENT_RATIO  PURCHASE_TYPE_Both  PURCHASE_TYPE_Installement  \\\n",
      "0                    1.446508                   0                           1   \n",
      "1                    3.826241                   0                           0   \n",
      "2                    0.991682                   0                           0   \n",
      "3                    0.000000                   0                           0   \n",
      "4                    2.771075                   0                           0   \n",
      "\n",
      "   PURCHASE_TYPE_None  PURCHASE_TYPE_One off  \n",
      "0                   0                      0  \n",
      "1                   1                      0  \n",
      "2                   0                      1  \n",
      "3                   0                      1  \n",
      "4                   0                      1  \n",
      "\n",
      "[5 rows x 25 columns]\n"
     ]
    }
   ],
   "source": [
    "#Encoding categorical variable\n",
    "dataset_onehot = dataset.copy()\n",
    "dataset_onehot = pd.get_dummies(dataset_onehot, columns=['PURCHASE_TYPE'], prefix = ['PURCHASE_TYPE'])\n",
    "\n",
    "print(dataset_onehot.head())"
   ]
  },
  {
   "cell_type": "code",
   "execution_count": 22,
   "metadata": {},
   "outputs": [
    {
     "name": "stdout",
     "output_type": "stream",
     "text": [
      "<class 'pandas.core.frame.DataFrame'>\n",
      "RangeIndex: 8950 entries, 0 to 8949\n",
      "Data columns (total 22 columns):\n",
      "BALANCE                             8950 non-null float64\n",
      "BALANCE_FREQUENCY                   8950 non-null float64\n",
      "PURCHASES                           8950 non-null float64\n",
      "ONEOFF_PURCHASES                    8950 non-null float64\n",
      "INSTALLMENTS_PURCHASES              8950 non-null float64\n",
      "CASH_ADVANCE                        8950 non-null float64\n",
      "PURCHASES_FREQUENCY                 8950 non-null float64\n",
      "ONEOFF_PURCHASES_FREQUENCY          8950 non-null float64\n",
      "PURCHASES_INSTALLMENTS_FREQUENCY    8950 non-null float64\n",
      "CASH_ADVANCE_FREQUENCY              8950 non-null float64\n",
      "CASH_ADVANCE_TRX                    8950 non-null float64\n",
      "PURCHASES_TRX                       8950 non-null float64\n",
      "CREDIT_LIMIT                        8950 non-null float64\n",
      "PAYMENTS                            8950 non-null float64\n",
      "MINIMUM_PAYMENTS                    8950 non-null float64\n",
      "PRC_FULL_PAYMENT                    8950 non-null float64\n",
      "TENURE                              8950 non-null float64\n",
      "MONTHLY_AVG_PURCHASE                8950 non-null float64\n",
      "CASH_ADVANCE_AVG                    8950 non-null float64\n",
      "PURCHASE_TYPE                       8950 non-null object\n",
      "LIMIT_RATIO                         8950 non-null float64\n",
      "PAYMENT_MIN_PAYEMENT_RATIO          8950 non-null float64\n",
      "dtypes: float64(21), object(1)\n",
      "memory usage: 1.5+ MB\n"
     ]
    }
   ],
   "source": [
    "dataset.info()"
   ]
  },
  {
   "cell_type": "code",
   "execution_count": 23,
   "metadata": {
    "scrolled": true
   },
   "outputs": [
    {
     "name": "stdout",
     "output_type": "stream",
     "text": [
      "<class 'pandas.core.frame.DataFrame'>\n",
      "RangeIndex: 8950 entries, 0 to 8949\n",
      "Data columns (total 25 columns):\n",
      "BALANCE                             8950 non-null float64\n",
      "BALANCE_FREQUENCY                   8950 non-null float64\n",
      "PURCHASES                           8950 non-null float64\n",
      "ONEOFF_PURCHASES                    8950 non-null float64\n",
      "INSTALLMENTS_PURCHASES              8950 non-null float64\n",
      "CASH_ADVANCE                        8950 non-null float64\n",
      "PURCHASES_FREQUENCY                 8950 non-null float64\n",
      "ONEOFF_PURCHASES_FREQUENCY          8950 non-null float64\n",
      "PURCHASES_INSTALLMENTS_FREQUENCY    8950 non-null float64\n",
      "CASH_ADVANCE_FREQUENCY              8950 non-null float64\n",
      "CASH_ADVANCE_TRX                    8950 non-null float64\n",
      "PURCHASES_TRX                       8950 non-null float64\n",
      "CREDIT_LIMIT                        8950 non-null float64\n",
      "PAYMENTS                            8950 non-null float64\n",
      "MINIMUM_PAYMENTS                    8950 non-null float64\n",
      "PRC_FULL_PAYMENT                    8950 non-null float64\n",
      "TENURE                              8950 non-null float64\n",
      "MONTHLY_AVG_PURCHASE                8950 non-null float64\n",
      "CASH_ADVANCE_AVG                    8950 non-null float64\n",
      "LIMIT_RATIO                         8950 non-null float64\n",
      "PAYMENT_MIN_PAYEMENT_RATIO          8950 non-null float64\n",
      "PURCHASE_TYPE_Both                  8950 non-null uint8\n",
      "PURCHASE_TYPE_Installement          8950 non-null uint8\n",
      "PURCHASE_TYPE_None                  8950 non-null uint8\n",
      "PURCHASE_TYPE_One off               8950 non-null uint8\n",
      "dtypes: float64(21), uint8(4)\n",
      "memory usage: 1.5 MB\n"
     ]
    }
   ],
   "source": [
    "dataset_onehot.info()"
   ]
  },
  {
   "cell_type": "markdown",
   "metadata": {},
   "source": [
    "# Gaining insights on KPI's"
   ]
  },
  {
   "cell_type": "code",
   "execution_count": 24,
   "metadata": {
    "scrolled": true
   },
   "outputs": [
    {
     "data": {
      "image/png": "[encoded data removed]",
      "text/plain": [
       "<Figure size 432x288 with 1 Axes>"
      ]
     },
     "metadata": {
      "needs_background": "light"
     },
     "output_type": "display_data"
    }
   ],
   "source": [
    "plt.bar(dataset['PURCHASE_TYPE'],dataset['MONTHLY_AVG_PURCHASE'])\n",
    "plt.title('Purchase Type VS Monthly AVG Purchase')\n",
    "plt.xlabel('Purchase Type')\n",
    "plt.ylabel('Monthly Average Purchase')\n",
    "plt.show()"
   ]
  },
  {
   "cell_type": "code",
   "execution_count": 25,
   "metadata": {
    "scrolled": false
   },
   "outputs": [
    {
     "data": {
      "image/png": "[encoded data removed]",
      "text/plain": [
       "<Figure size 432x288 with 1 Axes>"
      ]
     },
     "metadata": {
      "needs_background": "light"
     },
     "output_type": "display_data"
    }
   ],
   "source": [
    "plt.bar(dataset['PURCHASE_TYPE'],dataset['CASH_ADVANCE_AVG'])\n",
    "plt.title('Purchase Type VS Cash advance average')\n",
    "plt.xlabel('Purchase Type')\n",
    "plt.ylabel('Cash advance average')\n",
    "plt.show()"
   ]
  },
  {
   "cell_type": "code",
   "execution_count": 26,
   "metadata": {
    "scrolled": true
   },
   "outputs": [
    {
     "data": {
      "image/png": "[encoded data removed]",
      "text/plain": [
       "<Figure size 432x288 with 1 Axes>"
      ]
     },
     "metadata": {
      "needs_background": "light"
     },
     "output_type": "display_data"
    }
   ],
   "source": [
    "plt.bar(dataset['PURCHASE_TYPE'],dataset['LIMIT_RATIO'])\n",
    "plt.title('Purchase Type VS Limit Ratio')\n",
    "plt.xlabel('Purchase Type')\n",
    "plt.ylabel('Limit Ratio')\n",
    "plt.show()"
   ]
  },
  {
   "cell_type": "markdown",
   "metadata": {},
   "source": [
    "# Feature Selection"
   ]
  },
  {
   "cell_type": "code",
   "execution_count": 27,
   "metadata": {},
   "outputs": [
    {
     "data": {
      "text/plain": [
       "<matplotlib.axes._subplots.AxesSubplot at 0x1bc4463b308>"
      ]
     },
     "execution_count": 27,
     "metadata": {},
     "output_type": "execute_result"
    },
    {
     "data": {
      "image/png": "[encoded data removed]",
      "text/plain": [
       "<Figure size 720x720 with 2 Axes>"
      ]
     },
     "metadata": {
      "needs_background": "light"
     },
     "output_type": "display_data"
    }
   ],
   "source": [
    "#Set the width and hieght of the plot\n",
    "f, ax = plt.subplots(figsize=(10, 10))\n",
    "\n",
    "#Generate correlation matrix\n",
    "corr = dataset.corr()\n",
    "\n",
    "#Plot using seaborn library\n",
    "sns.heatmap(corr, mask=np.zeros_like(corr, dtype=np.bool), cmap=sns.diverging_palette(220, 10, as_cmap=True),\n",
    "            square=True, ax=ax)"
   ]
  },
  {
   "cell_type": "code",
   "execution_count": 28,
   "metadata": {},
   "outputs": [
    {
     "data": {
      "text/plain": [
       "(8950, 17)"
      ]
     },
     "execution_count": 28,
     "metadata": {},
     "output_type": "execute_result"
    }
   ],
   "source": [
    "# AS the KPI's generated have a high correlation with there orignal variables we'll remove them\n",
    "#Getting rid of original variables that are used for creating new KPIs\n",
    "col = ['BALANCE', 'PURCHASES' ,'PAYMENTS' ,'MINIMUM_PAYMENTS', 'PRC_FULL_PAYMENT', 'TENURE', 'CASH_ADVANCE' ,'CREDIT_LIMIT']\n",
    "\n",
    "dataset_final = dataset_onehot.drop(col,axis=1)\n",
    "dataset_final.shape"
   ]
  },
  {
   "cell_type": "code",
   "execution_count": 29,
   "metadata": {},
   "outputs": [
    {
     "data": {
      "text/plain": [
       "<matplotlib.axes._subplots.AxesSubplot at 0x1bc44ec1708>"
      ]
     },
     "execution_count": 29,
     "metadata": {},
     "output_type": "execute_result"
    },
    {
     "data": {
      "image/png": "[encoded data removed]",
      "text/plain": [
       "<Figure size 720x720 with 2 Axes>"
      ]
     },
     "metadata": {
      "needs_background": "light"
     },
     "output_type": "display_data"
    }
   ],
   "source": [
    "#Set the width and hieght of the plot\n",
    "f, ax = plt.subplots(figsize=(10, 10))\n",
    "\n",
    "#Generate correlation matrix\n",
    "corr = dataset_final.corr()\n",
    "\n",
    "#Plot using seaborn library\n",
    "sns.heatmap(corr, mask=np.zeros_like(corr, dtype=np.bool), cmap=sns.diverging_palette(220, 10, as_cmap=True),\n",
    "            square=True, ax=ax)"
   ]
  },
  {
   "cell_type": "markdown",
   "metadata": {},
   "source": [
    "# Feature scaling"
   ]
  },
  {
   "cell_type": "code",
   "execution_count": 30,
   "metadata": {},
   "outputs": [],
   "source": [
    "sc = StandardScaler()"
   ]
  },
  {
   "cell_type": "code",
   "execution_count": 31,
   "metadata": {
    "scrolled": true
   },
   "outputs": [
    {
     "data": {
      "text/html": [
       "<div>\n",
       "<style scoped>\n",
       "    .dataframe tbody tr th:only-of-type {\n",
       "        vertical-align: middle;\n",
       "    }\n",
       "\n",
       "    .dataframe tbody tr th {\n",
       "        vertical-align: top;\n",
       "    }\n",
       "\n",
       "    .dataframe thead th {\n",
       "        text-align: right;\n",
       "    }\n",
       "</style>\n",
       "<table border=\"1\" class=\"dataframe\">\n",
       "  <thead>\n",
       "    <tr style=\"text-align: right;\">\n",
       "      <th></th>\n",
       "      <th>BALANCE_FREQUENCY</th>\n",
       "      <th>ONEOFF_PURCHASES</th>\n",
       "      <th>INSTALLMENTS_PURCHASES</th>\n",
       "      <th>PURCHASES_FREQUENCY</th>\n",
       "      <th>ONEOFF_PURCHASES_FREQUENCY</th>\n",
       "      <th>PURCHASES_INSTALLMENTS_FREQUENCY</th>\n",
       "      <th>CASH_ADVANCE_FREQUENCY</th>\n",
       "      <th>CASH_ADVANCE_TRX</th>\n",
       "      <th>PURCHASES_TRX</th>\n",
       "      <th>MONTHLY_AVG_PURCHASE</th>\n",
       "      <th>CASH_ADVANCE_AVG</th>\n",
       "      <th>LIMIT_RATIO</th>\n",
       "      <th>PAYMENT_MIN_PAYEMENT_RATIO</th>\n",
       "      <th>PURCHASE_TYPE_Both</th>\n",
       "      <th>PURCHASE_TYPE_Installement</th>\n",
       "      <th>PURCHASE_TYPE_None</th>\n",
       "      <th>PURCHASE_TYPE_One off</th>\n",
       "    </tr>\n",
       "  </thead>\n",
       "  <tbody>\n",
       "    <tr>\n",
       "      <td>0</td>\n",
       "      <td>0.82</td>\n",
       "      <td>0.00</td>\n",
       "      <td>95.40</td>\n",
       "      <td>0.17</td>\n",
       "      <td>0.00</td>\n",
       "      <td>0.08</td>\n",
       "      <td>0.00</td>\n",
       "      <td>0.0</td>\n",
       "      <td>2.0</td>\n",
       "      <td>7.95</td>\n",
       "      <td>0.00</td>\n",
       "      <td>0.04</td>\n",
       "      <td>1.45</td>\n",
       "      <td>0</td>\n",
       "      <td>1</td>\n",
       "      <td>0</td>\n",
       "      <td>0</td>\n",
       "    </tr>\n",
       "    <tr>\n",
       "      <td>1</td>\n",
       "      <td>0.91</td>\n",
       "      <td>0.00</td>\n",
       "      <td>0.00</td>\n",
       "      <td>0.00</td>\n",
       "      <td>0.00</td>\n",
       "      <td>0.00</td>\n",
       "      <td>0.25</td>\n",
       "      <td>4.0</td>\n",
       "      <td>0.0</td>\n",
       "      <td>0.00</td>\n",
       "      <td>536.91</td>\n",
       "      <td>0.46</td>\n",
       "      <td>3.83</td>\n",
       "      <td>0</td>\n",
       "      <td>0</td>\n",
       "      <td>1</td>\n",
       "      <td>0</td>\n",
       "    </tr>\n",
       "    <tr>\n",
       "      <td>2</td>\n",
       "      <td>1.00</td>\n",
       "      <td>773.17</td>\n",
       "      <td>0.00</td>\n",
       "      <td>1.00</td>\n",
       "      <td>1.00</td>\n",
       "      <td>0.00</td>\n",
       "      <td>0.00</td>\n",
       "      <td>0.0</td>\n",
       "      <td>12.0</td>\n",
       "      <td>64.43</td>\n",
       "      <td>0.00</td>\n",
       "      <td>0.33</td>\n",
       "      <td>0.99</td>\n",
       "      <td>0</td>\n",
       "      <td>0</td>\n",
       "      <td>0</td>\n",
       "      <td>1</td>\n",
       "    </tr>\n",
       "    <tr>\n",
       "      <td>3</td>\n",
       "      <td>0.64</td>\n",
       "      <td>1499.00</td>\n",
       "      <td>0.00</td>\n",
       "      <td>0.08</td>\n",
       "      <td>0.08</td>\n",
       "      <td>0.00</td>\n",
       "      <td>0.08</td>\n",
       "      <td>1.0</td>\n",
       "      <td>1.0</td>\n",
       "      <td>124.92</td>\n",
       "      <td>17.15</td>\n",
       "      <td>0.22</td>\n",
       "      <td>0.00</td>\n",
       "      <td>0</td>\n",
       "      <td>0</td>\n",
       "      <td>0</td>\n",
       "      <td>1</td>\n",
       "    </tr>\n",
       "    <tr>\n",
       "      <td>4</td>\n",
       "      <td>1.00</td>\n",
       "      <td>16.00</td>\n",
       "      <td>0.00</td>\n",
       "      <td>0.08</td>\n",
       "      <td>0.08</td>\n",
       "      <td>0.00</td>\n",
       "      <td>0.00</td>\n",
       "      <td>0.0</td>\n",
       "      <td>1.0</td>\n",
       "      <td>1.33</td>\n",
       "      <td>0.00</td>\n",
       "      <td>0.68</td>\n",
       "      <td>2.77</td>\n",
       "      <td>0</td>\n",
       "      <td>0</td>\n",
       "      <td>0</td>\n",
       "      <td>1</td>\n",
       "    </tr>\n",
       "    <tr>\n",
       "      <td>...</td>\n",
       "      <td>...</td>\n",
       "      <td>...</td>\n",
       "      <td>...</td>\n",
       "      <td>...</td>\n",
       "      <td>...</td>\n",
       "      <td>...</td>\n",
       "      <td>...</td>\n",
       "      <td>...</td>\n",
       "      <td>...</td>\n",
       "      <td>...</td>\n",
       "      <td>...</td>\n",
       "      <td>...</td>\n",
       "      <td>...</td>\n",
       "      <td>...</td>\n",
       "      <td>...</td>\n",
       "      <td>...</td>\n",
       "      <td>...</td>\n",
       "    </tr>\n",
       "    <tr>\n",
       "      <td>8945</td>\n",
       "      <td>1.00</td>\n",
       "      <td>0.00</td>\n",
       "      <td>291.12</td>\n",
       "      <td>1.00</td>\n",
       "      <td>0.00</td>\n",
       "      <td>0.83</td>\n",
       "      <td>0.00</td>\n",
       "      <td>0.0</td>\n",
       "      <td>6.0</td>\n",
       "      <td>48.52</td>\n",
       "      <td>0.00</td>\n",
       "      <td>0.03</td>\n",
       "      <td>6.66</td>\n",
       "      <td>0</td>\n",
       "      <td>1</td>\n",
       "      <td>0</td>\n",
       "      <td>0</td>\n",
       "    </tr>\n",
       "    <tr>\n",
       "      <td>8946</td>\n",
       "      <td>1.00</td>\n",
       "      <td>0.00</td>\n",
       "      <td>300.00</td>\n",
       "      <td>1.00</td>\n",
       "      <td>0.00</td>\n",
       "      <td>0.83</td>\n",
       "      <td>0.00</td>\n",
       "      <td>0.0</td>\n",
       "      <td>6.0</td>\n",
       "      <td>50.00</td>\n",
       "      <td>0.00</td>\n",
       "      <td>0.02</td>\n",
       "      <td>1.67</td>\n",
       "      <td>0</td>\n",
       "      <td>1</td>\n",
       "      <td>0</td>\n",
       "      <td>0</td>\n",
       "    </tr>\n",
       "    <tr>\n",
       "      <td>8947</td>\n",
       "      <td>0.83</td>\n",
       "      <td>0.00</td>\n",
       "      <td>144.40</td>\n",
       "      <td>0.83</td>\n",
       "      <td>0.00</td>\n",
       "      <td>0.67</td>\n",
       "      <td>0.00</td>\n",
       "      <td>0.0</td>\n",
       "      <td>5.0</td>\n",
       "      <td>24.07</td>\n",
       "      <td>0.00</td>\n",
       "      <td>0.02</td>\n",
       "      <td>0.99</td>\n",
       "      <td>0</td>\n",
       "      <td>1</td>\n",
       "      <td>0</td>\n",
       "      <td>0</td>\n",
       "    </tr>\n",
       "    <tr>\n",
       "      <td>8948</td>\n",
       "      <td>0.83</td>\n",
       "      <td>0.00</td>\n",
       "      <td>0.00</td>\n",
       "      <td>0.00</td>\n",
       "      <td>0.00</td>\n",
       "      <td>0.00</td>\n",
       "      <td>0.17</td>\n",
       "      <td>2.0</td>\n",
       "      <td>0.0</td>\n",
       "      <td>0.00</td>\n",
       "      <td>6.09</td>\n",
       "      <td>0.03</td>\n",
       "      <td>0.94</td>\n",
       "      <td>0</td>\n",
       "      <td>0</td>\n",
       "      <td>1</td>\n",
       "      <td>0</td>\n",
       "    </tr>\n",
       "    <tr>\n",
       "      <td>8949</td>\n",
       "      <td>0.67</td>\n",
       "      <td>1093.25</td>\n",
       "      <td>0.00</td>\n",
       "      <td>0.67</td>\n",
       "      <td>0.67</td>\n",
       "      <td>0.00</td>\n",
       "      <td>0.33</td>\n",
       "      <td>2.0</td>\n",
       "      <td>23.0</td>\n",
       "      <td>182.21</td>\n",
       "      <td>21.17</td>\n",
       "      <td>0.31</td>\n",
       "      <td>0.72</td>\n",
       "      <td>0</td>\n",
       "      <td>0</td>\n",
       "      <td>0</td>\n",
       "      <td>1</td>\n",
       "    </tr>\n",
       "  </tbody>\n",
       "</table>\n",
       "<p>8950 rows × 17 columns</p>\n",
       "</div>"
      ],
      "text/plain": [
       "      BALANCE_FREQUENCY  ONEOFF_PURCHASES  INSTALLMENTS_PURCHASES  \\\n",
       "0                  0.82              0.00                   95.40   \n",
       "1                  0.91              0.00                    0.00   \n",
       "2                  1.00            773.17                    0.00   \n",
       "3                  0.64           1499.00                    0.00   \n",
       "4                  1.00             16.00                    0.00   \n",
       "...                 ...               ...                     ...   \n",
       "8945               1.00              0.00                  291.12   \n",
       "8946               1.00              0.00                  300.00   \n",
       "8947               0.83              0.00                  144.40   \n",
       "8948               0.83              0.00                    0.00   \n",
       "8949               0.67           1093.25                    0.00   \n",
       "\n",
       "      PURCHASES_FREQUENCY  ONEOFF_PURCHASES_FREQUENCY  \\\n",
       "0                    0.17                        0.00   \n",
       "1                    0.00                        0.00   \n",
       "2                    1.00                        1.00   \n",
       "3                    0.08                        0.08   \n",
       "4                    0.08                        0.08   \n",
       "...                   ...                         ...   \n",
       "8945                 1.00                        0.00   \n",
       "8946                 1.00                        0.00   \n",
       "8947                 0.83                        0.00   \n",
       "8948                 0.00                        0.00   \n",
       "8949                 0.67                        0.67   \n",
       "\n",
       "      PURCHASES_INSTALLMENTS_FREQUENCY  CASH_ADVANCE_FREQUENCY  \\\n",
       "0                                 0.08                    0.00   \n",
       "1                                 0.00                    0.25   \n",
       "2                                 0.00                    0.00   \n",
       "3                                 0.00                    0.08   \n",
       "4                                 0.00                    0.00   \n",
       "...                                ...                     ...   \n",
       "8945                              0.83                    0.00   \n",
       "8946                              0.83                    0.00   \n",
       "8947                              0.67                    0.00   \n",
       "8948                              0.00                    0.17   \n",
       "8949                              0.00                    0.33   \n",
       "\n",
       "      CASH_ADVANCE_TRX  PURCHASES_TRX  MONTHLY_AVG_PURCHASE  CASH_ADVANCE_AVG  \\\n",
       "0                  0.0            2.0                  7.95              0.00   \n",
       "1                  4.0            0.0                  0.00            536.91   \n",
       "2                  0.0           12.0                 64.43              0.00   \n",
       "3                  1.0            1.0                124.92             17.15   \n",
       "4                  0.0            1.0                  1.33              0.00   \n",
       "...                ...            ...                   ...               ...   \n",
       "8945               0.0            6.0                 48.52              0.00   \n",
       "8946               0.0            6.0                 50.00              0.00   \n",
       "8947               0.0            5.0                 24.07              0.00   \n",
       "8948               2.0            0.0                  0.00              6.09   \n",
       "8949               2.0           23.0                182.21             21.17   \n",
       "\n",
       "      LIMIT_RATIO  PAYMENT_MIN_PAYEMENT_RATIO  PURCHASE_TYPE_Both  \\\n",
       "0            0.04                        1.45                   0   \n",
       "1            0.46                        3.83                   0   \n",
       "2            0.33                        0.99                   0   \n",
       "3            0.22                        0.00                   0   \n",
       "4            0.68                        2.77                   0   \n",
       "...           ...                         ...                 ...   \n",
       "8945         0.03                        6.66                   0   \n",
       "8946         0.02                        1.67                   0   \n",
       "8947         0.02                        0.99                   0   \n",
       "8948         0.03                        0.94                   0   \n",
       "8949         0.31                        0.72                   0   \n",
       "\n",
       "      PURCHASE_TYPE_Installement  PURCHASE_TYPE_None  PURCHASE_TYPE_One off  \n",
       "0                              1                   0                      0  \n",
       "1                              0                   1                      0  \n",
       "2                              0                   0                      1  \n",
       "3                              0                   0                      1  \n",
       "4                              0                   0                      1  \n",
       "...                          ...                 ...                    ...  \n",
       "8945                           1                   0                      0  \n",
       "8946                           1                   0                      0  \n",
       "8947                           1                   0                      0  \n",
       "8948                           0                   1                      0  \n",
       "8949                           0                   0                      1  \n",
       "\n",
       "[8950 rows x 17 columns]"
      ]
     },
     "execution_count": 31,
     "metadata": {},
     "output_type": "execute_result"
    }
   ],
   "source": [
    "dataset_final=dataset_final.round(2)\n",
    "dataset_final"
   ]
  },
  {
   "cell_type": "code",
   "execution_count": 32,
   "metadata": {},
   "outputs": [
    {
     "data": {
      "text/html": [
       "<div>\n",
       "<style scoped>\n",
       "    .dataframe tbody tr th:only-of-type {\n",
       "        vertical-align: middle;\n",
       "    }\n",
       "\n",
       "    .dataframe tbody tr th {\n",
       "        vertical-align: top;\n",
       "    }\n",
       "\n",
       "    .dataframe thead th {\n",
       "        text-align: right;\n",
       "    }\n",
       "</style>\n",
       "<table border=\"1\" class=\"dataframe\">\n",
       "  <thead>\n",
       "    <tr style=\"text-align: right;\">\n",
       "      <th></th>\n",
       "      <th>BALANCE_FREQUENCY</th>\n",
       "      <th>ONEOFF_PURCHASES</th>\n",
       "      <th>INSTALLMENTS_PURCHASES</th>\n",
       "      <th>PURCHASES_FREQUENCY</th>\n",
       "      <th>ONEOFF_PURCHASES_FREQUENCY</th>\n",
       "      <th>PURCHASES_INSTALLMENTS_FREQUENCY</th>\n",
       "      <th>CASH_ADVANCE_FREQUENCY</th>\n",
       "      <th>CASH_ADVANCE_TRX</th>\n",
       "      <th>PURCHASES_TRX</th>\n",
       "      <th>MONTHLY_AVG_PURCHASE</th>\n",
       "      <th>CASH_ADVANCE_AVG</th>\n",
       "      <th>LIMIT_RATIO</th>\n",
       "      <th>PAYMENT_MIN_PAYEMENT_RATIO</th>\n",
       "      <th>PURCHASE_TYPE_Both</th>\n",
       "      <th>PURCHASE_TYPE_Installement</th>\n",
       "      <th>PURCHASE_TYPE_None</th>\n",
       "      <th>PURCHASE_TYPE_One off</th>\n",
       "    </tr>\n",
       "  </thead>\n",
       "  <tbody>\n",
       "    <tr>\n",
       "      <td>0</td>\n",
       "      <td>0.82</td>\n",
       "      <td>0.00</td>\n",
       "      <td>95.4</td>\n",
       "      <td>0.17</td>\n",
       "      <td>0.00</td>\n",
       "      <td>0.08</td>\n",
       "      <td>0.00</td>\n",
       "      <td>0.0</td>\n",
       "      <td>2.0</td>\n",
       "      <td>7.95</td>\n",
       "      <td>0.00</td>\n",
       "      <td>0.04</td>\n",
       "      <td>1.45</td>\n",
       "      <td>0</td>\n",
       "      <td>1</td>\n",
       "      <td>0</td>\n",
       "      <td>0</td>\n",
       "    </tr>\n",
       "    <tr>\n",
       "      <td>1</td>\n",
       "      <td>0.91</td>\n",
       "      <td>0.00</td>\n",
       "      <td>0.0</td>\n",
       "      <td>0.00</td>\n",
       "      <td>0.00</td>\n",
       "      <td>0.00</td>\n",
       "      <td>0.25</td>\n",
       "      <td>4.0</td>\n",
       "      <td>0.0</td>\n",
       "      <td>0.00</td>\n",
       "      <td>536.91</td>\n",
       "      <td>0.46</td>\n",
       "      <td>3.83</td>\n",
       "      <td>0</td>\n",
       "      <td>0</td>\n",
       "      <td>1</td>\n",
       "      <td>0</td>\n",
       "    </tr>\n",
       "    <tr>\n",
       "      <td>2</td>\n",
       "      <td>1.00</td>\n",
       "      <td>773.17</td>\n",
       "      <td>0.0</td>\n",
       "      <td>1.00</td>\n",
       "      <td>1.00</td>\n",
       "      <td>0.00</td>\n",
       "      <td>0.00</td>\n",
       "      <td>0.0</td>\n",
       "      <td>12.0</td>\n",
       "      <td>64.43</td>\n",
       "      <td>0.00</td>\n",
       "      <td>0.33</td>\n",
       "      <td>0.99</td>\n",
       "      <td>0</td>\n",
       "      <td>0</td>\n",
       "      <td>0</td>\n",
       "      <td>1</td>\n",
       "    </tr>\n",
       "    <tr>\n",
       "      <td>3</td>\n",
       "      <td>0.64</td>\n",
       "      <td>1499.00</td>\n",
       "      <td>0.0</td>\n",
       "      <td>0.08</td>\n",
       "      <td>0.08</td>\n",
       "      <td>0.00</td>\n",
       "      <td>0.08</td>\n",
       "      <td>1.0</td>\n",
       "      <td>1.0</td>\n",
       "      <td>124.92</td>\n",
       "      <td>17.15</td>\n",
       "      <td>0.22</td>\n",
       "      <td>0.00</td>\n",
       "      <td>0</td>\n",
       "      <td>0</td>\n",
       "      <td>0</td>\n",
       "      <td>1</td>\n",
       "    </tr>\n",
       "    <tr>\n",
       "      <td>4</td>\n",
       "      <td>1.00</td>\n",
       "      <td>16.00</td>\n",
       "      <td>0.0</td>\n",
       "      <td>0.08</td>\n",
       "      <td>0.08</td>\n",
       "      <td>0.00</td>\n",
       "      <td>0.00</td>\n",
       "      <td>0.0</td>\n",
       "      <td>1.0</td>\n",
       "      <td>1.33</td>\n",
       "      <td>0.00</td>\n",
       "      <td>0.68</td>\n",
       "      <td>2.77</td>\n",
       "      <td>0</td>\n",
       "      <td>0</td>\n",
       "      <td>0</td>\n",
       "      <td>1</td>\n",
       "    </tr>\n",
       "  </tbody>\n",
       "</table>\n",
       "</div>"
      ],
      "text/plain": [
       "   BALANCE_FREQUENCY  ONEOFF_PURCHASES  INSTALLMENTS_PURCHASES  \\\n",
       "0               0.82              0.00                    95.4   \n",
       "1               0.91              0.00                     0.0   \n",
       "2               1.00            773.17                     0.0   \n",
       "3               0.64           1499.00                     0.0   \n",
       "4               1.00             16.00                     0.0   \n",
       "\n",
       "   PURCHASES_FREQUENCY  ONEOFF_PURCHASES_FREQUENCY  \\\n",
       "0                 0.17                        0.00   \n",
       "1                 0.00                        0.00   \n",
       "2                 1.00                        1.00   \n",
       "3                 0.08                        0.08   \n",
       "4                 0.08                        0.08   \n",
       "\n",
       "   PURCHASES_INSTALLMENTS_FREQUENCY  CASH_ADVANCE_FREQUENCY  CASH_ADVANCE_TRX  \\\n",
       "0                              0.08                    0.00               0.0   \n",
       "1                              0.00                    0.25               4.0   \n",
       "2                              0.00                    0.00               0.0   \n",
       "3                              0.00                    0.08               1.0   \n",
       "4                              0.00                    0.00               0.0   \n",
       "\n",
       "   PURCHASES_TRX  MONTHLY_AVG_PURCHASE  CASH_ADVANCE_AVG  LIMIT_RATIO  \\\n",
       "0            2.0                  7.95              0.00         0.04   \n",
       "1            0.0                  0.00            536.91         0.46   \n",
       "2           12.0                 64.43              0.00         0.33   \n",
       "3            1.0                124.92             17.15         0.22   \n",
       "4            1.0                  1.33              0.00         0.68   \n",
       "\n",
       "   PAYMENT_MIN_PAYEMENT_RATIO  PURCHASE_TYPE_Both  PURCHASE_TYPE_Installement  \\\n",
       "0                        1.45                   0                           1   \n",
       "1                        3.83                   0                           0   \n",
       "2                        0.99                   0                           0   \n",
       "3                        0.00                   0                           0   \n",
       "4                        2.77                   0                           0   \n",
       "\n",
       "   PURCHASE_TYPE_None  PURCHASE_TYPE_One off  \n",
       "0                   0                      0  \n",
       "1                   1                      0  \n",
       "2                   0                      1  \n",
       "3                   0                      1  \n",
       "4                   0                      1  "
      ]
     },
     "execution_count": 32,
     "metadata": {},
     "output_type": "execute_result"
    }
   ],
   "source": [
    "sc.fit_transform(dataset_final)\n",
    "dataset_final.head()"
   ]
  },
  {
   "cell_type": "markdown",
   "metadata": {},
   "source": [
    "# PCA for dimension reduction"
   ]
  },
  {
   "cell_type": "code",
   "execution_count": 33,
   "metadata": {
    "scrolled": true
   },
   "outputs": [],
   "source": [
    "var_ratio={}\n",
    "for n in range(2,15):\n",
    "    pc = PCA(n_components=n)\n",
    "    dataset_pca=pc.fit(dataset_final)\n",
    "    var_ratio[n]=sum(dataset_pca.explained_variance_ratio_)"
   ]
  },
  {
   "cell_type": "code",
   "execution_count": 34,
   "metadata": {
    "scrolled": true
   },
   "outputs": [
    {
     "data": {
      "image/png": "[encoded data removed]",
      "text/plain": [
       "<Figure size 432x288 with 1 Axes>"
      ]
     },
     "metadata": {
      "needs_background": "light"
     },
     "output_type": "display_data"
    }
   ],
   "source": [
    "key=[]\n",
    "values=[]\n",
    "for keys in var_ratio.keys():\n",
    "    key.append(keys)\n",
    "    values.append(var_ratio[keys])\n",
    "plt.plot(key,values)\n",
    "plt.xlabel('Dimensions')\n",
    "plt.ylabel('Variance Explained')\n",
    "plt.title('PCA dimensions Variance')\n",
    "plt.show()"
   ]
  },
  {
   "cell_type": "code",
   "execution_count": 35,
   "metadata": {},
   "outputs": [
    {
     "data": {
      "text/plain": [
       "(8950, 5)"
      ]
     },
     "execution_count": 35,
     "metadata": {},
     "output_type": "execute_result"
    }
   ],
   "source": [
    "n=5\n",
    "pc = PCA(n_components=n)\n",
    "dataset_pca = pc.fit_transform(dataset_final)\n",
    "dataset_pca.shape\n"
   ]
  },
  {
   "cell_type": "markdown",
   "metadata": {},
   "source": [
    "# Clustering"
   ]
  },
  {
   "cell_type": "code",
   "execution_count": 36,
   "metadata": {},
   "outputs": [],
   "source": [
    "#Estimate optimum number of clusters\n",
    "cluster_range = range( 1, 20 )\n",
    "cluster_errors = []\n",
    "\n",
    "for num_clusters in cluster_range:\n",
    "    clusters = KMeans(num_clusters).fit(dataset_pca)\n",
    "    cluster_errors.append(clusters.inertia_)\n",
    "    \n",
    "#Create dataframe with cluster errors\n",
    "clusters_df = pd.DataFrame( { \"num_clusters\":cluster_range, \"cluster_errors\": cluster_errors } )"
   ]
  },
  {
   "cell_type": "code",
   "execution_count": 37,
   "metadata": {},
   "outputs": [
    {
     "data": {
      "text/plain": [
       "[<matplotlib.lines.Line2D at 0x1bc44e2cf08>]"
      ]
     },
     "execution_count": 37,
     "metadata": {},
     "output_type": "execute_result"
    },
    {
     "data": {
      "image/png": "[encoded data removed]",
      "text/plain": [
       "<Figure size 864x432 with 1 Axes>"
      ]
     },
     "metadata": {
      "needs_background": "light"
     },
     "output_type": "display_data"
    }
   ],
   "source": [
    "#Plot line chart to visualise number of clusters\n",
    "%matplotlib inline  \n",
    "plt.figure(figsize=(12,6))\n",
    "plt.plot( clusters_df.num_clusters, clusters_df.cluster_errors, marker = \"+\" )"
   ]
  },
  {
   "cell_type": "code",
   "execution_count": 38,
   "metadata": {},
   "outputs": [],
   "source": [
    "clusters = KMeans(4).fit(dataset_pca)\n",
    "y = clusters.predict(dataset_pca)"
   ]
  },
  {
   "cell_type": "code",
   "execution_count": 39,
   "metadata": {},
   "outputs": [
    {
     "data": {
      "image/png": "[encoded data removed]",
      "text/plain": [
       "<Figure size 432x288 with 1 Axes>"
      ]
     },
     "metadata": {
      "needs_background": "light"
     },
     "output_type": "display_data"
    }
   ],
   "source": [
    "plt.scatter(dataset_pca[y == 0, 0], dataset_pca[y == 0, 1], s = 100, c = 'red', label = 'Cluster 1')\n",
    "plt.scatter(dataset_pca[y == 1, 0], dataset_pca[y == 1, 1], s = 100, c = 'blue', label = 'Cluster 2')\n",
    "plt.scatter(dataset_pca[y == 2, 0], dataset_pca[y == 2, 1], s = 100, c = 'green', label = 'Cluster 3')\n",
    "plt.scatter(dataset_pca[y == 3, 0], dataset_pca[y == 3, 1], s = 100, c = 'cyan', label = 'Cluster 4')\n",
    "plt.scatter(clusters.cluster_centers_[:, 0], clusters.cluster_centers_[:, 1], s = 50, c = 'yellow', label = 'Centroids')\n",
    "plt.title('Clusters of customers')\n",
    "plt.legend()\n",
    "plt.show()"
   ]
  },
  {
   "cell_type": "code",
   "execution_count": 40,
   "metadata": {},
   "outputs": [
    {
     "data": {
      "image/png": "[encoded data removed]",
      "text/plain": [
       "<Figure size 432x288 with 1 Axes>"
      ]
     },
     "metadata": {
      "needs_background": "light"
     },
     "output_type": "display_data"
    }
   ],
   "source": [
    "clusters = KMeans(5).fit(dataset_pca)\n",
    "y = clusters.predict(dataset_pca)\n",
    "plt.scatter(dataset_pca[y == 0, 0], dataset_pca[y == 0, 1], s = 100, c = 'red', label = 'Cluster 1')\n",
    "plt.scatter(dataset_pca[y == 1, 0], dataset_pca[y == 1, 1], s = 100, c = 'blue', label = 'Cluster 2')\n",
    "plt.scatter(dataset_pca[y == 2, 0], dataset_pca[y == 2, 1], s = 100, c = 'green', label = 'Cluster 3')\n",
    "plt.scatter(dataset_pca[y == 3, 0], dataset_pca[y == 3, 1], s = 100, c = 'cyan', label = 'Cluster 4')\n",
    "plt.scatter(dataset_pca[y == 4, 0], dataset_pca[y == 4, 1], s = 100, c = 'magenta', label = 'Cluster 5')\n",
    "plt.scatter(clusters.cluster_centers_[:, 0], clusters.cluster_centers_[:, 1], s = 50, c = 'yellow', label = 'Centroids')\n",
    "plt.title('Clusters of customers')\n",
    "plt.legend()\n",
    "plt.show()"
   ]
  },
  {
   "cell_type": "code",
   "execution_count": null,
   "metadata": {},
   "outputs": [],
   "source": []
  },
  {
   "cell_type": "code",
   "execution_count": null,
   "metadata": {},
   "outputs": [],
   "source": []
  }
 ],
 "metadata": {
  "kernelspec": {
   "display_name": "Python 3",
   "language": "python",
   "name": "python3"
  },
  "language_info": {
   "codemirror_mode": {
    "name": "ipython",
    "version": 3
   },
   "file_extension": ".py",
   "mimetype": "text/x-python",
   "name": "python",
   "nbconvert_exporter": "python",
   "pygments_lexer": "ipython3",
   "version": "3.7.4"
  }
 },
 "nbformat": 4,
 "nbformat_minor": 2
}
